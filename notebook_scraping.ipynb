{
 "cells": [
  {
   "cell_type": "code",
   "execution_count": 4,
   "metadata": {},
   "outputs": [
    {
     "data": {
      "text/plain": [
       "2"
      ]
     },
     "execution_count": 4,
     "metadata": {},
     "output_type": "execute_result"
    }
   ],
   "source": [
    "from bs4 import BeautifulSoup\n",
    "import requests \n",
    "import re \n",
    "import pandas as pd \n",
    "\n",
    "# recuperation du premier url parent qui contient la liste des pokemon \n",
    "url = \"https://pokemondb.net/pokedex/national\"\n",
    "\n",
    "code_source = requests.get(url)\n",
    "soup = BeautifulSoup(code_source.text, \"html.parser\") \n",
    "\n",
    "#stocker les url's enfants qui contient les stats des pokemon\n",
    "url_2  = [] \n",
    "for i in soup.find( 'div' , {'class' : 'infocard-list infocard-list-pkmn-lg'}).findAll(\"a\") : \n",
    "    if \"ent-name\" in str(i) :\n",
    "        url_2.append( str(\"https://pokemondb.net\")  + str( i.get(\"href\") ) ) \n",
    "\n",
    "\n",
    "dico_pole_stat = {} # stocker pokemon + statistiques du pokemon\n",
    "\n",
    "#recuperation des stats + nom des pokemon\n",
    "for url_poke in url_2  :\n",
    "    url_poke = BeautifulSoup( requests.get(url_poke).text , \"html.parser\" ) \n",
    "\n",
    "    liste_poke_stat = []\n",
    "\n",
    "    for poke_stat in url_poke.find( class_ ='grid-col span-md-12 span-lg-8' ).findAll('td') : \n",
    "        try : \n",
    "             if isinstance(int(str(poke_stat.getText())), int) :\n",
    "                liste_poke_stat.append(poke_stat.getText())\n",
    "\n",
    "        except ValueError: \n",
    "            pass \n",
    "    liste_poke_stat =liste_poke_stat[::3 ][:-1]\n",
    "   \n",
    "   # pour recuperer nom du pockemon \n",
    "    regex_poke = re.findall( r\"pokedex\\/([a-zA-z]+)\" , str(url_poke) )[0]  \n",
    "    dico_pole_stat[ str(regex_poke) ] = liste_poke_stat"
   ]
  },
  {
   "cell_type": "code",
   "execution_count": null,
   "metadata": {},
   "outputs": [],
   "source": [
    "# stocker les pokemon dans un data frame pandas \n",
    "\n",
    "df_pokemon = pd.DataFrame(dico_pole_stat)\n",
    "df_pokemon.head()\n",
    "\n",
    "   \n"
   ]
  }
 ],
 "metadata": {
  "kernelspec": {
   "display_name": "Python 3.11.0 64-bit",
   "language": "python",
   "name": "python3"
  },
  "language_info": {
   "codemirror_mode": {
    "name": "ipython",
    "version": 3
   },
   "file_extension": ".py",
   "mimetype": "text/x-python",
   "name": "python",
   "nbconvert_exporter": "python",
   "pygments_lexer": "ipython3",
   "version": "3.11.0"
  },
  "orig_nbformat": 4,
  "vscode": {
   "interpreter": {
    "hash": "5238573367df39f7286bb46f9ff5f08f63a01a80960060ce41e3c79b190280fa"
   }
  }
 },
 "nbformat": 4,
 "nbformat_minor": 2
}
