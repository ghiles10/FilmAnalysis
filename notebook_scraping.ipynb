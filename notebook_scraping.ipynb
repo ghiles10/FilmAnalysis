{
 "cells": [
  {
   "cell_type": "code",
   "execution_count": 2,
   "metadata": {},
   "outputs": [
    {
     "name": "stdout",
     "output_type": "stream",
     "text": [
      "Collecting findspark\n",
      "  Downloading findspark-2.0.1-py2.py3-none-any.whl (4.4 kB)\n",
      "Installing collected packages: findspark\n",
      "Successfully installed findspark-2.0.1\n",
      "Collecting pyspark\n",
      "  Downloading pyspark-3.3.1.tar.gz (281.4 MB)\n",
      "\u001b[2K     \u001b[90m━━━━━━━━━━━━━━━━━━━━━━━━━━━━━━━━━━━━━━━\u001b[0m \u001b[32m281.4/281.4 MB\u001b[0m \u001b[31m6.6 MB/s\u001b[0m eta \u001b[36m0:00:00\u001b[0m00:01\u001b[0m00:01\u001b[0m\n",
      "\u001b[?25h  Preparing metadata (setup.py) ... \u001b[?25ldone\n",
      "\u001b[?25hCollecting py4j==0.10.9.5\n",
      "  Downloading py4j-0.10.9.5-py2.py3-none-any.whl (199 kB)\n",
      "\u001b[2K     \u001b[90m━━━━━━━━━━━━━━━━━━━━━━━━━━━━━━━━━━━━━━\u001b[0m \u001b[32m199.7/199.7 kB\u001b[0m \u001b[31m10.7 MB/s\u001b[0m eta \u001b[36m0:00:00\u001b[0m\n",
      "\u001b[?25hBuilding wheels for collected packages: pyspark\n",
      "  Building wheel for pyspark (setup.py) ... \u001b[?25ldone\n",
      "\u001b[?25h  Created wheel for pyspark: filename=pyspark-3.3.1-py2.py3-none-any.whl size=281845512 sha256=b04ce80cf439fde31d21a0f6ca76c15f636f33a22e34d6a05bd8153dcf1bae09\n",
      "  Stored in directory: /home/codespace/.cache/pip/wheels/9c/aa/b1/8433fd8b1afe7eb31196cc74a42cd778bcb52636a428da079d\n",
      "Successfully built pyspark\n",
      "Installing collected packages: py4j, pyspark\n",
      "Successfully installed py4j-0.10.9.5 pyspark-3.3.1\n"
     ]
    }
   ],
   "source": [
    "!pip install findspark\n",
    "!pip install pyspark"
   ]
  },
  {
   "cell_type": "code",
   "execution_count": 3,
   "metadata": {},
   "outputs": [],
   "source": [
    "import findspark\n",
    "from pyspark.sql import SparkSession\n",
    "import pandas as pd\n",
    "import warnings\n",
    "warnings.filterwarnings(\"ignore\")"
   ]
  },
  {
   "cell_type": "code",
   "execution_count": 105,
   "metadata": {},
   "outputs": [],
   "source": [
    "spark_session = SparkSession.builder.appName('data_film').getOrCreate()"
   ]
  },
  {
   "cell_type": "code",
   "execution_count": 199,
   "metadata": {},
   "outputs": [],
   "source": [
    "data = spark_session.read.option(\"delimiter\", \"\\t\").csv('data_film.txt', header=False)\n",
    "data = data.toDF('titre', 'date', 'duree', 'type', 'note', 'nombre avis', 'avis')"
   ]
  },
  {
   "cell_type": "markdown",
   "metadata": {},
   "source": [
    "# Preprocess"
   ]
  },
  {
   "cell_type": "code",
   "execution_count": 200,
   "metadata": {},
   "outputs": [],
   "source": [
    "from pyspark.sql import functions as F"
   ]
  },
  {
   "cell_type": "code",
   "execution_count": 201,
   "metadata": {},
   "outputs": [
    {
     "name": "stdout",
     "output_type": "stream",
     "text": [
      "root\n",
      " |-- titre: string (nullable = true)\n",
      " |-- date: string (nullable = true)\n",
      " |-- duree: string (nullable = true)\n",
      " |-- type: string (nullable = true)\n",
      " |-- note: string (nullable = true)\n",
      " |-- nombre avis: string (nullable = true)\n",
      " |-- avis: string (nullable = true)\n",
      "\n"
     ]
    }
   ],
   "source": [
    "data.printSchema()"
   ]
  },
  {
   "cell_type": "code",
   "execution_count": 202,
   "metadata": {},
   "outputs": [],
   "source": [
    "# variable avis traitement\n",
    "data = data.withColumn(\"avis\", F.regexp_replace(F.col(\"avis\"), \"[\\['\\\"]\" , \"\"))"
   ]
  },
  {
   "cell_type": "code",
   "execution_count": 203,
   "metadata": {},
   "outputs": [],
   "source": [
    "# traitment de la variable type\n",
    "data = data.withColumn(\"type\", F.regexp_replace(F.col(\"type\"), \"[\\[\\]',]\", \"\"))\n"
   ]
  },
  {
   "cell_type": "code",
   "execution_count": 204,
   "metadata": {},
   "outputs": [],
   "source": [
    "# ne garder que l'heure pour des besoin de modélisation \n",
    "data = data.withColumn('duree', F.substring(\"duree\", 1, 2))"
   ]
  },
  {
   "cell_type": "code",
   "execution_count": 207,
   "metadata": {},
   "outputs": [
    {
     "name": "stdout",
     "output_type": "stream",
     "text": [
      "+--------------------+-----------------+-----+--------------------+----+-----------+--------------------+\n",
      "|               titre|             date|duree|                type|note|nombre avis|                avis|\n",
      "+--------------------+-----------------+-----+--------------------+----+-----------+--------------------+\n",
      "|   Madeleine Collins| 22-décembre-2021|   1h|               Drame| 3.3|        168|\\nMais comment ce...|\n",
      "|           Les Pires|  7-décembre-2022|   1h|  Comédie dramatique| 3.8|         23|\\nSur une idée nu...|\n",
      "|              Inu-Oh| 23-novembre-2022|   1h|Animation Musical...| 3.6|          8|\\nLe scénario est...|\n",
      "|            Larguées|    18-avril-2018|   1h|             Comédie| 3.3|        364|\\n«\\xa0Larguées\\x...|\n",
      "|Couleurs de l'inc...|  9-novembre-2022|   2h|    Historique Drame| 4.0|        368|\\nLa mort de son ...|\n",
      "|             Silence|   8-février-2017|   2h|    Drame Historique| 3.6|        383|\\nRalalah ! Mais ...|\n",
      "|Black is Beltza I...| 16-novembre-2022|   1h|  Animation Thriller| 3.0|          5|\\nd\\abord , merci...|\n",
      "| Don't Worry Darling|21-septembre-2022|   2h|            Thriller| 3.7|        228|\\nLa meilleure so...|\n",
      "|             Menteur|  13-juillet-2022|   1h|             Comédie| 2.0|        165|\\nDéjà quand tu v...|\n",
      "|               Furie|  6-novembre-2019|   1h|            Thriller| 2.4|        100|\\nAvec ce film qu...|\n",
      "|  Ticket To Paradise|   5-octobre-2022|   1h|     Comédie Romance| 2.8|        121|\\nIl fut un temps...|\n",
      "|   Top Gun: Maverick|      25-mai-2022|   2h|              Action| 4.4|        740|\\nEnfin un film q...|\n",
      "|             La Ruse|    27-avril-2022|   2h|Guerre Drame Hist...| 3.4|        160|\\nUn film terribl...|\n",
      "|     Le Défi de Noël| 16-novembre-2022|   1h|     Comédie Romance| 2.7|         52|\\nExcellent film ...|\n",
      "|         Petaouchnok|  9-novembre-2022|   1h|             Comédie| 2.4|         78|\\nTerrifiant de f...|\n",
      "|      Juste une nuit| 16-novembre-2022|   1h|               Drame| 3.4|         14|\\nAlors qu\\un ven...|\n",
      "|           Charlotte|  9-novembre-2022|   1h|Animation Drame H...| 3.7|         29|\\nBeaucoup aimé c...|\n",
      "|Enquête sur un sc...|   9-février-2022|   2h|Biopic Drame Thri...| 2.7|        243|\\nJe ne comprends...|\n",
      "|         Falcon Lake|  7-décembre-2022|   1h|Comédie dramatiqu...| 4.0|         13|\\nPour un premier...|\n",
      "|A l'Ouest, rien d...|  28-octobre-2022|   2h|Drame Guerre Hist...| 4.1|        139|\\nMangifique... u...|\n",
      "+--------------------+-----------------+-----+--------------------+----+-----------+--------------------+\n",
      "only showing top 20 rows\n",
      "\n"
     ]
    }
   ],
   "source": [
    "# changer le format des dates  \n",
    "data = data.withColumn(\"date\", F.regexp_replace('date',' ', \"-\"))\n",
    "data.show()\n"
   ]
  },
  {
   "cell_type": "code",
   "execution_count": 206,
   "metadata": {},
   "outputs": [
    {
     "name": "stdout",
     "output_type": "stream",
     "text": [
      "+--------------------+----------------+-----+--------------------+----+-----------+--------------------+\n",
      "|               titre|            date|duree|                type|note|nombre avis|                avis|\n",
      "+--------------------+----------------+-----+--------------------+----+-----------+--------------------+\n",
      "|   Madeleine Collins|22-décembre-2021|   1h|               Drame| 3.3|        168|\\nMais comment ce...|\n",
      "|           Les Pires| 7-décembre-2022|   1h|  Comédie dramatique| 3.8|         23|\\nSur une idée nu...|\n",
      "|              Inu-Oh|23-novembre-2022|   1h|Animation Musical...| 3.6|          8|\\nLe scénario est...|\n",
      "|            Larguées|   18-avril-2018|   1h|             Comédie| 3.3|        364|\\n«\\xa0Larguées\\x...|\n",
      "|Couleurs de l'inc...| 9-novembre-2022|   2h|    Historique Drame| 4.0|        368|\\nLa mort de son ...|\n",
      "+--------------------+----------------+-----+--------------------+----+-----------+--------------------+\n",
      "only showing top 5 rows\n",
      "\n"
     ]
    }
   ],
   "source": [
    "data.show(5)"
   ]
  },
  {
   "cell_type": "code",
   "execution_count": null,
   "metadata": {},
   "outputs": [],
   "source": []
  },
  {
   "cell_type": "code",
   "execution_count": null,
   "metadata": {},
   "outputs": [],
   "source": []
  }
 ],
 "metadata": {
  "kernelspec": {
   "display_name": "Python 3.10.4 64-bit",
   "language": "python",
   "name": "python3"
  },
  "language_info": {
   "codemirror_mode": {
    "name": "ipython",
    "version": 3
   },
   "file_extension": ".py",
   "mimetype": "text/x-python",
   "name": "python",
   "nbconvert_exporter": "python",
   "pygments_lexer": "ipython3",
   "version": "3.10.4"
  },
  "orig_nbformat": 4,
  "vscode": {
   "interpreter": {
    "hash": "3ad933181bd8a04b432d3370b9dc3b0662ad032c4dfaa4e4f1596c548f763858"
   }
  }
 },
 "nbformat": 4,
 "nbformat_minor": 2
}
