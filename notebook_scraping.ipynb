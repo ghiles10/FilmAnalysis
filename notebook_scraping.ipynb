{
 "cells": [
  {
   "cell_type": "code",
   "execution_count": 1,
   "metadata": {},
   "outputs": [
    {
     "name": "stdout",
     "output_type": "stream",
     "text": [
      "Collecting findspark\n",
      "  Downloading findspark-2.0.1-py2.py3-none-any.whl (4.4 kB)\n",
      "Installing collected packages: findspark\n",
      "Successfully installed findspark-2.0.1\n",
      "Collecting pyspark\n",
      "  Downloading pyspark-3.3.1.tar.gz (281.4 MB)\n",
      "\u001b[2K     \u001b[90m━━━━━━━━━━━━━━━━━━━━━━━━━━━━━━━━━━━━━━━\u001b[0m \u001b[32m281.4/281.4 MB\u001b[0m \u001b[31m5.5 MB/s\u001b[0m eta \u001b[36m0:00:00\u001b[0m00:01\u001b[0m00:01\u001b[0m\n",
      "\u001b[?25h  Preparing metadata (setup.py) ... \u001b[?25ldone\n",
      "\u001b[?25hCollecting py4j==0.10.9.5\n",
      "  Downloading py4j-0.10.9.5-py2.py3-none-any.whl (199 kB)\n",
      "\u001b[2K     \u001b[90m━━━━━━━━━━━━━━━━━━━━━━━━━━━━━━━━━━━━━━\u001b[0m \u001b[32m199.7/199.7 kB\u001b[0m \u001b[31m11.1 MB/s\u001b[0m eta \u001b[36m0:00:00\u001b[0m\n",
      "\u001b[?25hBuilding wheels for collected packages: pyspark\n",
      "  Building wheel for pyspark (setup.py) ... \u001b[?25ldone\n",
      "\u001b[?25h  Created wheel for pyspark: filename=pyspark-3.3.1-py2.py3-none-any.whl size=281845512 sha256=859d6f8d8cd0ce9dfedee12189432427fbd562fdbbd463c7531c7077c8864be8\n",
      "  Stored in directory: /home/codespace/.cache/pip/wheels/9c/aa/b1/8433fd8b1afe7eb31196cc74a42cd778bcb52636a428da079d\n",
      "Successfully built pyspark\n",
      "Installing collected packages: py4j, pyspark\n",
      "Successfully installed py4j-0.10.9.5 pyspark-3.3.1\n"
     ]
    }
   ],
   "source": [
    "!pip install findspark\n",
    "!pip install pyspark"
   ]
  },
  {
   "cell_type": "code",
   "execution_count": 2,
   "metadata": {},
   "outputs": [],
   "source": [
    "import findspark\n",
    "from pyspark.sql import SparkSession\n",
    "import pandas as pd\n",
    "import warnings\n",
    "warnings.filterwarnings(\"ignore\")"
   ]
  },
  {
   "cell_type": "code",
   "execution_count": 3,
   "metadata": {},
   "outputs": [
    {
     "name": "stdout",
     "output_type": "stream",
     "text": [
      "22/12/08 10:45:44 WARN Utils: Your hostname, codespaces-7640fe resolves to a loopback address: 127.0.0.1; using 172.16.5.4 instead (on interface eth0)\n",
      "22/12/08 10:45:44 WARN Utils: Set SPARK_LOCAL_IP if you need to bind to another address\n"
     ]
    },
    {
     "name": "stderr",
     "output_type": "stream",
     "text": [
      "Setting default log level to \"WARN\".\n",
      "To adjust logging level use sc.setLogLevel(newLevel). For SparkR, use setLogLevel(newLevel).\n"
     ]
    },
    {
     "name": "stdout",
     "output_type": "stream",
     "text": [
      "22/12/08 10:45:45 WARN NativeCodeLoader: Unable to load native-hadoop library for your platform... using builtin-java classes where applicable\n"
     ]
    }
   ],
   "source": [
    "spark_session = SparkSession.builder.appName('data_film').getOrCreate()"
   ]
  },
  {
   "cell_type": "code",
   "execution_count": 14,
   "metadata": {},
   "outputs": [],
   "source": [
    "data = spark_session.read.option(\"delimiter\", \"\\t\").csv('data_film.txt', header=False)\n",
    "data = data.toDF('titre', 'date', 'duree', 'type', 'note', 'nombre avis', 'avis')"
   ]
  },
  {
   "cell_type": "code",
   "execution_count": 15,
   "metadata": {},
   "outputs": [
    {
     "name": "stdout",
     "output_type": "stream",
     "text": [
      "+--------------------+-----------------+--------+--------------------+----+-----------+--------------------+\n",
      "|               titre|             date|   duree|                type|note|nombre avis|                avis|\n",
      "+--------------------+-----------------+--------+--------------------+----+-----------+--------------------+\n",
      "|               Troll|             vide|    vide|                vide| 2.3|         77|['\\nSi le facétie...|\n",
      "|  Premières vacances|   2 janvier 2019|1h 42min|         ['Comédie']| 2.8|        241|['\\nPremières vac...|\n",
      "|Celle que Vous Cr...|             vide|    vide|                vide| 3.8|        276|[\"\\nCe film... je...|\n",
      "|       The Immigrant| 27 novembre 2013|1h 53min|['Drame', 'Romance']| 3.1|        372|['\\nMarion Cotill...|\n",
      "|        Nos frangins|             vide|    vide|                vide| 3.3|         18|[\"\\nUn assassinat...|\n",
      "|     La Vie scolaire|             vide|    vide|                vide| 3.7|        603|[\"\\nQu’est-ce qui...|\n",
      "|     Plus que jamais| 16 novembre 2022|2h 03min|           ['Drame']| 3.6|         41|[\"\\nAlors que Vic...|\n",
      "|          L'Innocent|  12 octobre 2022|1h 40min|         ['Comédie']| 4.0|        426|['\\nCe qui frappe...|\n",
      "|      The Woman King|28 septembre 2022|2h 15min|['Historique', 'D...| 3.8|        206|['\\nLe film \"Woma...|\n",
      "|    Samouraï Academy|  12 octobre 2022|1h 37min|['Animation', 'Co...| 3.0|         33|['\\nMouais, un so...|\n",
      "|    Après le silence| 16 novembre 2022|1h 30min|           ['Drame']| 3.2|          7|[\"\\nCe téléfilm e...|\n",
      "|   Madeleine Collins|             vide|    vide|                vide| 3.3|        168|['\\nMais comment ...|\n",
      "|     Sous les figues|             vide|    vide|                vide| 3.7|         11|[\"\\nLe premier lo...|\n",
      "|    Le Nouveau Jouet|  19 octobre 2022|1h 52min|         ['Comédie']| 2.5|        178|['\\nRappelons don...|\n",
      "|           Les Pires|             vide|    vide|                vide| 3.9|         21|['\\nLes Pires se ...|\n",
      "|        Les Nageuses| 23 novembre 2022|2h 14min|           ['Drame']| 3.9|         30|[\"\\nL'histoire VR...|\n",
      "|Une comédie roman...| 16 novembre 2022|1h 38min|['Comédie', 'Roma...| 3.1|         44|[\"\\nAprès avoir f...|\n",
      "|      Juste une nuit| 16 novembre 2022|1h 26min|           ['Drame']| 3.4|         14|['\\nAlors qu\\'un ...|\n",
      "|              Athena|23 septembre 2022|1h 37min|['Drame', 'Action...| 2.5|        358|['\\nJuste après l...|\n",
      "|        Balle perdue|     26 juin 2020|1h 33min|['Thriller', 'Act...| 3.1|        231|[\"\\nBalle perdue,...|\n",
      "+--------------------+-----------------+--------+--------------------+----+-----------+--------------------+\n",
      "only showing top 20 rows\n",
      "\n"
     ]
    }
   ],
   "source": [
    "data.show()"
   ]
  },
  {
   "cell_type": "code",
   "execution_count": null,
   "metadata": {},
   "outputs": [],
   "source": []
  }
 ],
 "metadata": {
  "kernelspec": {
   "display_name": "Python 3.10.4 64-bit",
   "language": "python",
   "name": "python3"
  },
  "language_info": {
   "codemirror_mode": {
    "name": "ipython",
    "version": 3
   },
   "file_extension": ".py",
   "mimetype": "text/x-python",
   "name": "python",
   "nbconvert_exporter": "python",
   "pygments_lexer": "ipython3",
   "version": "3.10.4"
  },
  "orig_nbformat": 4,
  "vscode": {
   "interpreter": {
    "hash": "3ad933181bd8a04b432d3370b9dc3b0662ad032c4dfaa4e4f1596c548f763858"
   }
  }
 },
 "nbformat": 4,
 "nbformat_minor": 2
}
