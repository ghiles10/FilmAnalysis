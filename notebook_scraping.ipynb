{
 "cells": [
  {
   "cell_type": "code",
   "execution_count": 2,
   "metadata": {},
   "outputs": [
    {
     "name": "stdout",
     "output_type": "stream",
     "text": [
      "Requirement already satisfied: findspark in /usr/local/python/3.10.4/lib/python3.10/site-packages (2.0.1)\n",
      "Requirement already satisfied: pyspark in /usr/local/python/3.10.4/lib/python3.10/site-packages (3.3.1)\n",
      "Requirement already satisfied: py4j==0.10.9.5 in /usr/local/python/3.10.4/lib/python3.10/site-packages (from pyspark) (0.10.9.5)\n"
     ]
    }
   ],
   "source": [
    "!pip install findspark\n",
    "!pip install pyspark"
   ]
  },
  {
   "cell_type": "code",
   "execution_count": 7,
   "metadata": {},
   "outputs": [],
   "source": [
    "import findspark\n",
    "from pyspark.sql import SparkSession\n",
    "import pandas as pd\n",
    "import warnings\n",
    "warnings.filterwarnings(\"ignore\")"
   ]
  },
  {
   "cell_type": "code",
   "execution_count": 8,
   "metadata": {},
   "outputs": [],
   "source": [
    "spark_session = SparkSession.builder.appName('data_film').getOrCreate()"
   ]
  },
  {
   "cell_type": "code",
   "execution_count": 9,
   "metadata": {},
   "outputs": [],
   "source": [
    "data = spark_session.read.option(\"delimiter\", \"\\t\").csv('data_film.txt', header=False)\n",
    "data = data.toDF('titre', 'date', 'duree', 'type', 'note', 'nombre avis', 'avis')"
   ]
  },
  {
   "cell_type": "code",
   "execution_count": 10,
   "metadata": {},
   "outputs": [
    {
     "name": "stdout",
     "output_type": "stream",
     "text": [
      "+--------------------+----------------+--------+--------------------+----+-----------+--------------------+\n",
      "|               titre|            date|   duree|                type|note|nombre avis|                avis|\n",
      "+--------------------+----------------+--------+--------------------+----+-----------+--------------------+\n",
      "|         Les Engagés|16 novembre 2022|1h 38min|           ['Drame']| 2.4|         94|['\\nCe film prome...|\n",
      "|Pacifiction - Tou...| 9 novembre 2022|2h 45min|['Drame', 'Espion...| 2.8|         78|['\\nPremier long-...|\n",
      "|  La Proie du diable| 26 octobre 2022|1h 33min|        ['Thriller']| 2.2|         63|['\\nHalloween 202...|\n",
      "|Le Petit Nicolas ...| 12 octobre 2022|1h 26min|['Animation', 'Fa...| 4.0|         85|[\"\\nEnfin, une ma...|\n",
      "|  L'École est à nous| 26 octobre 2022|1h 48min|         ['Comédie']| 3.5|         97|['\\nCe film n’est...|\n",
      "|               Furie| 6 novembre 2019|1h 37min|        ['Thriller']| 2.4|        100|[\"\\nAvec ce film ...|\n",
      "|Les Femmes du square|16 novembre 2022|1h 45min|         ['Comédie']| 3.6|        107|[\"\\nUn très bon f...|\n",
      "|        Les Repentis| 9 novembre 2022|1h 56min| ['Drame', 'Biopic']| 3.7|         15|['\\nEn traitant u...|\n",
      "|        Les Nageuses|23 novembre 2022|2h 14min|           ['Drame']| 3.9|         30|[\"\\nL'histoire VR...|\n",
      "|Du crépitement so...|16 novembre 2022|1h 32min|           ['Drame']| 3.8|         28|['\\nDes comédiens...|\n",
      "|      Balle perdue 2|10 novembre 2022|1h 38min|['Action', 'Thril...| 3.1|         89|['\\n\"Balle perdue...|\n",
      "|     Sous les figues| 7 décembre 2022|1h 32min|           ['Drame']| 3.7|         11|[\"\\nLe premier lo...|\n",
      "|La Petite Nemo et...|18 novembre 2022|1h 57min|['Aventure', 'Fan...| 3.6|         47|[\"\\nFrancis Lawre...|\n",
      "|            Larguées|   18 avril 2018|1h 32min|         ['Comédie']| 3.3|        364|['\\n«\\xa0Larguées...|\n",
      "|           As bestas| 20 juillet 2022|2h 17min|['Thriller', 'Dra...| 4.2|        296|['\\nEt sinon, il ...|\n",
      "|             Barbare| 26 octobre 2022|1h 43min|        ['Thriller']| 3.3|         87|['\\nÀ son arrivée...|\n",
      "|Enquête sur un sc...|  9 février 2022|2h 03min|['Biopic', 'Drame...| 2.7|        243|[\"\\nJe ne compren...|\n",
      "|     La Vie scolaire|            vide|    vide|                vide| 3.7|        603|[\"\\nQu’est-ce qui...|\n",
      "|          The Wonder|16 novembre 2022|1h 48min|['Thriller', 'Dra...| 3.0|         28|[\"\\nMalgré la pré...|\n",
      "|  Les Bonnes étoiles| 7 décembre 2022|2h 09min|           ['Drame']| 3.5|         15|['\\nUne très symp...|\n",
      "+--------------------+----------------+--------+--------------------+----+-----------+--------------------+\n",
      "only showing top 20 rows\n",
      "\n"
     ]
    }
   ],
   "source": [
    "data.show()"
   ]
  },
  {
   "cell_type": "code",
   "execution_count": null,
   "metadata": {},
   "outputs": [],
   "source": []
  },
  {
   "cell_type": "code",
   "execution_count": null,
   "metadata": {},
   "outputs": [],
   "source": []
  },
  {
   "cell_type": "code",
   "execution_count": null,
   "metadata": {},
   "outputs": [],
   "source": []
  }
 ],
 "metadata": {
  "kernelspec": {
   "display_name": "Python 3.10.4 64-bit",
   "language": "python",
   "name": "python3"
  },
  "language_info": {
   "codemirror_mode": {
    "name": "ipython",
    "version": 3
   },
   "file_extension": ".py",
   "mimetype": "text/x-python",
   "name": "python",
   "nbconvert_exporter": "python",
   "pygments_lexer": "ipython3",
   "version": "3.10.4"
  },
  "orig_nbformat": 4,
  "vscode": {
   "interpreter": {
    "hash": "3ad933181bd8a04b432d3370b9dc3b0662ad032c4dfaa4e4f1596c548f763858"
   }
  }
 },
 "nbformat": 4,
 "nbformat_minor": 2
}
