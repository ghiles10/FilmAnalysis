{
 "cells": [
  {
   "cell_type": "code",
   "execution_count": 1,
   "metadata": {},
   "outputs": [],
   "source": [
    "import findspark\n",
    "from pyspark.sql import SparkSession\n",
    "import pandas as pd\n",
    "import warnings\n",
    "warnings.filterwarnings(\"ignore\")\n",
    "import re\n",
    "import pandas as pd"
   ]
  },
  {
   "cell_type": "code",
   "execution_count": 2,
   "metadata": {},
   "outputs": [],
   "source": [
    "# ajouter le module dans liste des modules pour faire appel\n",
    "import sys\n",
    "sys.path.append(r\"/workspaces/web-scrapping-Machine-learning-/scripts\")"
   ]
  },
  {
   "cell_type": "code",
   "execution_count": 3,
   "metadata": {},
   "outputs": [
    {
     "name": "stdout",
     "output_type": "stream",
     "text": [
      "22/12/09 15:57:54 WARN Utils: Your hostname, codespaces-90c577 resolves to a loopback address: 127.0.0.1; using 172.16.5.4 instead (on interface eth0)\n",
      "22/12/09 15:57:54 WARN Utils: Set SPARK_LOCAL_IP if you need to bind to another address\n"
     ]
    },
    {
     "name": "stderr",
     "output_type": "stream",
     "text": [
      "Setting default log level to \"WARN\".\n",
      "To adjust logging level use sc.setLogLevel(newLevel). For SparkR, use setLogLevel(newLevel).\n"
     ]
    },
    {
     "name": "stdout",
     "output_type": "stream",
     "text": [
      "22/12/09 15:57:55 WARN NativeCodeLoader: Unable to load native-hadoop library for your platform... using builtin-java classes where applicable\n"
     ]
    }
   ],
   "source": [
    "spark_session = SparkSession.builder.appName('data_film').getOrCreate()"
   ]
  },
  {
   "cell_type": "code",
   "execution_count": 4,
   "metadata": {},
   "outputs": [],
   "source": [
    "raw_data = spark_session.read.option(\"delimiter\", \"\\t\").csv(r'../data_film.txt', header=False)\n",
    "raw_data = raw_data.toDF('titre', 'date', 'duree', 'type', 'note', 'nombre avis', 'avis')"
   ]
  },
  {
   "attachments": {},
   "cell_type": "markdown",
   "metadata": {},
   "source": [
    "# PREPROCESS"
   ]
  },
  {
   "cell_type": "code",
   "execution_count": 5,
   "metadata": {},
   "outputs": [],
   "source": [
    "import preprocess_linux \n",
    "data = preprocess_linux.preproces_for_machine_learning(raw_data, spark_session)"
   ]
  },
  {
   "cell_type": "code",
   "execution_count": 6,
   "metadata": {},
   "outputs": [
    {
     "name": "stdout",
     "output_type": "stream",
     "text": [
      "+--------------------+----------+--------+--------------------+----+-----------+--------------------+\n",
      "|               titre|      date|   duree|                type|note|nombre avis|                avis|\n",
      "+--------------------+----------+--------+--------------------+----+-----------+--------------------+\n",
      "|   Madeleine Collins|2021-12-22|1h 47min|               Drame| 3.3|      168.0|\\nMais comment ce...|\n",
      "|           Les Pires|2022-12-07|1h 39min|  Comédie dramatique| 3.8|       23.0|\\nSur une idée nu...|\n",
      "|              Inu-Oh|2022-11-23|1h 38min|Animation Musical...| 3.6|        8.0|\\nLe scénario est...|\n",
      "|            Larguées|2018-04-18|1h 32min|             Comédie| 3.3|      364.0|\\n«\\xaLarguées\\xa...|\n",
      "|Couleurs de l'inc...|2022-11-09|2h 16min|    Historique Drame| 4.0|      368.0|\\nLa mort de son ...|\n",
      "+--------------------+----------+--------+--------------------+----+-----------+--------------------+\n",
      "only showing top 5 rows\n",
      "\n"
     ]
    }
   ],
   "source": [
    "data.show(5)"
   ]
  },
  {
   "cell_type": "code",
   "execution_count": 7,
   "metadata": {},
   "outputs": [
    {
     "ename": "TypeError",
     "evalue": "titre_films_to_txt() missing 1 required positional argument: 'data'",
     "output_type": "error",
     "traceback": [
      "\u001b[0;31m---------------------------------------------------------------------------\u001b[0m",
      "\u001b[0;31mTypeError\u001b[0m                                 Traceback (most recent call last)",
      "Cell \u001b[0;32mIn[7], line 2\u001b[0m\n\u001b[1;32m      1\u001b[0m \u001b[39m# creation fichier txt avec le titre des films\u001b[39;00m\n\u001b[0;32m----> 2\u001b[0m \u001b[39mimport\u001b[39;00m \u001b[39mtitre_film\u001b[39;00m \n\u001b[1;32m      3\u001b[0m titre_film\u001b[39m.\u001b[39mtitre_films_to_txt(data)\n",
      "File \u001b[0;32m/workspaces/web-scrapping-Machine-learning-/scripts/titre_film.py:13\u001b[0m\n\u001b[1;32m     10\u001b[0m     f\u001b[39m.\u001b[39mclose()\n\u001b[1;32m     11\u001b[0m     \u001b[39mprint\u001b[39m(\u001b[39m'\u001b[39m\u001b[39mok\u001b[39m\u001b[39m'\u001b[39m)\n\u001b[0;32m---> 13\u001b[0m titre_films_to_txt() \n",
      "\u001b[0;31mTypeError\u001b[0m: titre_films_to_txt() missing 1 required positional argument: 'data'"
     ]
    }
   ],
   "source": [
    "# creation fichier txt avec le titre des films\n",
    "import titre_film \n",
    "titre_film.titre_films_to_txt(data)"
   ]
  },
  {
   "cell_type": "code",
   "execution_count": null,
   "metadata": {},
   "outputs": [],
   "source": []
  },
  {
   "cell_type": "code",
   "execution_count": null,
   "metadata": {},
   "outputs": [],
   "source": []
  },
  {
   "cell_type": "code",
   "execution_count": null,
   "metadata": {},
   "outputs": [],
   "source": []
  },
  {
   "cell_type": "code",
   "execution_count": null,
   "metadata": {},
   "outputs": [],
   "source": []
  },
  {
   "cell_type": "code",
   "execution_count": null,
   "metadata": {},
   "outputs": [],
   "source": []
  }
 ],
 "metadata": {
  "kernelspec": {
   "display_name": "Python 3",
   "language": "python",
   "name": "python3"
  },
  "language_info": {
   "codemirror_mode": {
    "name": "ipython",
    "version": 3
   },
   "file_extension": ".py",
   "mimetype": "text/x-python",
   "name": "python",
   "nbconvert_exporter": "python",
   "pygments_lexer": "ipython3",
   "version": "3.10.4"
  },
  "orig_nbformat": 4,
  "vscode": {
   "interpreter": {
    "hash": "3ad933181bd8a04b432d3370b9dc3b0662ad032c4dfaa4e4f1596c548f763858"
   }
  }
 },
 "nbformat": 4,
 "nbformat_minor": 2
}
