{
 "cells": [
  {
   "cell_type": "code",
   "execution_count": 52,
   "metadata": {},
   "outputs": [],
   "source": [
    "import findspark\n",
    "from pyspark.sql import SparkSession\n",
    "import pandas as pd\n",
    "import warnings\n",
    "warnings.filterwarnings(\"ignore\")\n",
    "\n"
   ]
  },
  {
   "cell_type": "code",
   "execution_count": 53,
   "metadata": {},
   "outputs": [],
   "source": [
    "# ajouter le module dans liste des modules pour faire appel\n",
    "import sys\n",
    "sys.path.append(r\"/workspaces/web-scrapping-Machine-learning-/scripts\")"
   ]
  },
  {
   "cell_type": "code",
   "execution_count": 54,
   "metadata": {},
   "outputs": [],
   "source": [
    "spark_session = SparkSession.builder.appName('data_film').getOrCreate()"
   ]
  },
  {
   "cell_type": "code",
   "execution_count": 55,
   "metadata": {},
   "outputs": [],
   "source": [
    "raw_data = spark_session.read.option(\"delimiter\", \"\\t\").csv(r'../data_film.txt', header=False)\n",
    "raw_data = raw_data.toDF('titre', 'date', 'duree', 'type', 'note', 'nombre avis', 'avis')"
   ]
  },
  {
   "attachments": {},
   "cell_type": "markdown",
   "metadata": {},
   "source": [
    "# PREPROCESS"
   ]
  },
  {
   "cell_type": "code",
   "execution_count": 56,
   "metadata": {},
   "outputs": [],
   "source": [
    "import preprocess_linux \n",
    "data = preprocess_linux.preproces_for_machine_learning(raw_data, spark_session)"
   ]
  },
  {
   "cell_type": "code",
   "execution_count": 57,
   "metadata": {},
   "outputs": [
    {
     "name": "stdout",
     "output_type": "stream",
     "text": [
      "+--------------------+----------+--------+--------------------+----+-----------+--------------------+\n",
      "|               titre|      date|   duree|                type|note|nombre avis|                avis|\n",
      "+--------------------+----------+--------+--------------------+----+-----------+--------------------+\n",
      "|        Reste un peu|2022-11-16|1h 33min|             Comédie| 3.5|      295.0|\\nPeut-on appréci...|\n",
      "|Black Panther: Wa...|2022-11-09|2h 42min|Action Aventure F...| 3.4|      516.0|\\nComme le monde ...|\n",
      "|           Les Miens|2022-11-23|1h 25min|               Drame| 3.6|       92.0|\\nLes Miens est l...|\n",
      "|Simone, le voyage...|2022-10-12|2h 20min|              Biopic| 4.2|      661.0|\\nFilm évènement ...|\n",
      "|Les Femmes du square|2022-11-16|1h 45min|             Comédie| 3.6|      110.0|\\nUn très bon fil...|\n",
      "|        Annie Colère|2022-11-30|2h 00min|  Comédie dramatique| 4.0|       66.0|\\nFILM GUIMAUVE ....|\n",
      "|           Mascarade|2022-11-01|2h 14min|  Comédie dramatique| 3.6|      577.0|\\nMoins original ...|\n",
      "|Couleurs de l'inc...|2022-11-09|2h 16min|    Historique Drame| 4.0|      371.0|\\nLa mort de son ...|\n",
      "|Le Chat Potté 2 :...|2022-12-07|1h 42min|Animation Comédie...| 4.2|       23.0|\\nLe Chat Potté v...|\n",
      "|       Les Amandiers|2022-11-16|2h 05min|  Comédie dramatique| 3.7|      120.0|\\nOn a bien compr...|\n",
      "|  Fumer fait tousser|2022-11-30|1h 20min|             Comédie| 2.9|      118.0|\\nFranchement ass...|\n",
      "|          Le Torrent|2022-11-30|1h 42min|            Thriller| 3.2|       95.0|\\nCe nest pas un ...|\n",
      "|La Conspiration d...|2022-10-26|1h 59min|            Thriller| 4.0|      211.0|\\nAvec Boy from H...|\n",
      "|             Le Menu|2022-11-23|1h 48min|            Thriller| 3.5|      133.0|\\nHors d\\oeuvre:U...|\n",
      "|     Armageddon Time|2022-11-09|1h 55min|               Drame| 3.7|      209.0|\\nDu cinéma à lan...|\n",
      "+--------------------+----------+--------+--------------------+----+-----------+--------------------+\n",
      "\n"
     ]
    }
   ],
   "source": [
    "data.show()"
   ]
  },
  {
   "cell_type": "code",
   "execution_count": 58,
   "metadata": {},
   "outputs": [
    {
     "name": "stdout",
     "output_type": "stream",
     "text": [
      "Infos du film \n",
      "- Titre : Reste un peu\n",
      "- Date de sortie : 2022-11-16\n",
      "- Durée : 1h 33min\n",
      "- Note : 3.5\n",
      "- Nombre d'avis : 295\n"
     ]
    }
   ],
   "source": [
    "from pyspark.sql.functions import col\n",
    "\n",
    "data_a_afficher = data.where(col(\"titre\") == 'Reste un peu') # selection de la ligne a afficher\n",
    "\n",
    "\n",
    "print('Infos du film ')\n",
    "print( '- Titre :',data_a_afficher.select('titre').collect()[0][0] ) \n",
    "print( '- Date de sortie :',data_a_afficher.select('date').collect()[0][0] ) \n",
    "print( '- Durée :',data_a_afficher.select('duree').collect()[0][0] ) \n",
    "print( '- Note :',data_a_afficher.select('note').collect()[0][0] ) \n",
    "print( '- Nombre d\\'avis :',int (data_a_afficher.select('nombre avis').collect()[0][0] ) )\n",
    "\n"
   ]
  },
  {
   "cell_type": "code",
   "execution_count": null,
   "metadata": {},
   "outputs": [],
   "source": []
  },
  {
   "cell_type": "code",
   "execution_count": null,
   "metadata": {},
   "outputs": [],
   "source": []
  },
  {
   "cell_type": "code",
   "execution_count": null,
   "metadata": {},
   "outputs": [],
   "source": []
  },
  {
   "cell_type": "code",
   "execution_count": null,
   "metadata": {},
   "outputs": [],
   "source": []
  }
 ],
 "metadata": {
  "kernelspec": {
   "display_name": "Python 3",
   "language": "python",
   "name": "python3"
  },
  "language_info": {
   "codemirror_mode": {
    "name": "ipython",
    "version": 3
   },
   "file_extension": ".py",
   "mimetype": "text/x-python",
   "name": "python",
   "nbconvert_exporter": "python",
   "pygments_lexer": "ipython3",
   "version": "3.10.4 (main, Nov 29 2022, 20:00:25) [GCC 9.4.0]"
  },
  "orig_nbformat": 4,
  "vscode": {
   "interpreter": {
    "hash": "3ad933181bd8a04b432d3370b9dc3b0662ad032c4dfaa4e4f1596c548f763858"
   }
  }
 },
 "nbformat": 4,
 "nbformat_minor": 2
}
